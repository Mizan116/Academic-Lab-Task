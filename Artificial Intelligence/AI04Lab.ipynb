{
  "nbformat": 4,
  "nbformat_minor": 0,
  "metadata": {
    "colab": {
      "provenance": []
    },
    "kernelspec": {
      "name": "python3",
      "display_name": "Python 3"
    },
    "language_info": {
      "name": "python"
    }
  },
  "cells": [
    {
      "cell_type": "code",
      "source": [
        "childs = {\n",
        "    \"child_no\" : [1,2,3,4],\n",
        "    \"name\" : ['jamal', 'Rakib','Opu','Lipu'],\n",
        "    \"year\" : [2001, 2002,2003,2004]\n",
        "}\n",
        "import pandas as pd\n",
        "df = pd.DataFrame(childs)"
      ],
      "metadata": {
        "id": "ihmM0obs1a0w"
      },
      "execution_count": null,
      "outputs": []
    },
    {
      "cell_type": "code",
      "source": [
        "df.to_excel(\"childs.xlsx\")"
      ],
      "metadata": {
        "id": "hVm82SRG3Be_"
      },
      "execution_count": null,
      "outputs": []
    },
    {
      "cell_type": "code",
      "source": [
        "myfamily = {\n",
        "    \"child1\" :{\n",
        "        \"name\" : \"kamla\",\n",
        "        \"DOB\" : 2001\n",
        "    },\n",
        "    \"child2\" :{\n",
        "        \"name\" : \"Chosa Rakib\",\n",
        "        \"DOB\" : 2002\n",
        "    },\n",
        "    \"child3\" :{\n",
        "        \"name\" : \"Topu\",\n",
        "        \"DOB\" : 2000\n",
        "    }\n",
        "}"
      ],
      "metadata": {
        "id": "AAcCqKGGvMML"
      },
      "execution_count": null,
      "outputs": []
    },
    {
      "cell_type": "code",
      "source": [
        "person =  {\n",
        "   \"name\" : \"Brad\",\n",
        "   \"age\" : 35,\n",
        "   \"job\" : \"Habijabi\",\n",
        "   \"city\" :\"NaiCity\",\n",
        "   \"email\" : \"brad@gmail.com\"\n",
        "}\n",
        "person\n",
        "type(person)"
      ],
      "metadata": {
        "colab": {
          "base_uri": "https://localhost:8080/"
        },
        "id": "Ns05w-tbqw1f",
        "outputId": "ad6aa500-8ca0-469a-fc11-1be0a638a42b"
      },
      "execution_count": null,
      "outputs": [
        {
          "output_type": "execute_result",
          "data": {
            "text/plain": [
              "dict"
            ]
          },
          "metadata": {},
          "execution_count": 11
        }
      ]
    },
    {
      "cell_type": "code",
      "source": [
        "person[\"age\"]"
      ],
      "metadata": {
        "colab": {
          "base_uri": "https://localhost:8080/"
        },
        "id": "0KxAwN2Uruvq",
        "outputId": "b1c10315-ef58-4b02-951a-73b1d0181367"
      },
      "execution_count": null,
      "outputs": [
        {
          "output_type": "execute_result",
          "data": {
            "text/plain": [
              "35"
            ]
          },
          "metadata": {},
          "execution_count": 12
        }
      ]
    },
    {
      "cell_type": "code",
      "source": [
        "person[\"height\"] = 5.4\n",
        "person"
      ],
      "metadata": {
        "colab": {
          "base_uri": "https://localhost:8080/"
        },
        "id": "ROGfrpYSr1-w",
        "outputId": "2ca6c099-1385-45ec-d305-c5c8824e185f"
      },
      "execution_count": null,
      "outputs": [
        {
          "output_type": "execute_result",
          "data": {
            "text/plain": [
              "{'name': 'Brad',\n",
              " 'age': 35,\n",
              " 'job': 'Habijabi',\n",
              " 'city': 'NaiCity',\n",
              " 'email': 'brad@gmail.com',\n",
              " 'height': 5.4}"
            ]
          },
          "metadata": {},
          "execution_count": 13
        }
      ]
    },
    {
      "cell_type": "code",
      "source": [
        "person.keys()"
      ],
      "metadata": {
        "colab": {
          "base_uri": "https://localhost:8080/"
        },
        "id": "uvQgiA_NskwT",
        "outputId": "a400e312-a0c3-4a9f-93c2-b5cbdc255aeb"
      },
      "execution_count": null,
      "outputs": [
        {
          "output_type": "execute_result",
          "data": {
            "text/plain": [
              "dict_keys(['name', 'age', 'job', 'city', 'email', 'height'])"
            ]
          },
          "metadata": {},
          "execution_count": 14
        }
      ]
    },
    {
      "cell_type": "code",
      "source": [
        "per = {\n",
        "    \"name\" : \"Brad\",\n",
        "    \"age\" : 35,\n",
        "    \"job\" : \"Habijabi\",\n",
        "    \"city\" :\"NaiCity\",\n",
        "    \"email\" : \"brad@gmail.com\"\n",
        "}\n",
        "\n",
        "for keys in per.keys():\n",
        "  print(keys, \"=>\", per[keys])"
      ],
      "metadata": {
        "colab": {
          "base_uri": "https://localhost:8080/"
        },
        "id": "buE5P5W4tHS2",
        "outputId": "3c2b4af2-ebc3-4dab-f9c3-ac9820ce64aa"
      },
      "execution_count": null,
      "outputs": [
        {
          "output_type": "stream",
          "name": "stdout",
          "text": [
            "name => Brad\n",
            "age => 35\n",
            "job => Habijabi\n",
            "city => NaiCity\n",
            "email => brad@gmail.com\n"
          ]
        }
      ]
    },
    {
      "cell_type": "markdown",
      "source": [
        "\n",
        "\n",
        "```\n",
        "# This is formatted as code\n",
        "```\n",
        "\n",
        "##Python Tuple\n",
        "my_tuple = (\"Apple\",\"banana\",\"mango\")\n",
        "my_tuple"
      ],
      "metadata": {
        "id": "xvzHmjEAntBV"
      }
    },
    {
      "cell_type": "code",
      "source": [
        "a_tuple = (\"a\",)#tuple e ekta item er jonno , use korte hbe ar nahole eta string dekhabe\n",
        "\n",
        "a_tuple\n",
        "type(a_tuple)"
      ],
      "metadata": {
        "colab": {
          "base_uri": "https://localhost:8080/"
        },
        "id": "DTZ4QAjvqU3a",
        "outputId": "cf41ac64-1114-4b3b-a241-853003659209"
      },
      "execution_count": null,
      "outputs": [
        {
          "output_type": "execute_result",
          "data": {
            "text/plain": [
              "tuple"
            ]
          },
          "metadata": {},
          "execution_count": 9
        }
      ]
    },
    {
      "cell_type": "code",
      "source": [
        "type(my_tuple) #tuple is immutable tai kisu add delete or change kora jai na. tai Run time fast execution time fast"
      ],
      "metadata": {
        "colab": {
          "base_uri": "https://localhost:8080/"
        },
        "id": "fOf8KDmkoIBa",
        "outputId": "20e6d6bb-221f-48c5-da5a-1402c0eba988"
      },
      "execution_count": null,
      "outputs": [
        {
          "output_type": "execute_result",
          "data": {
            "text/plain": [
              "tuple"
            ]
          },
          "metadata": {},
          "execution_count": 4
        }
      ]
    },
    {
      "cell_type": "code",
      "source": [
        "!python -m timeit \"x = (1,2,3,4,5,6,7)\"\n",
        "!python -m timeit \"x = [1,2,3,4,5,6,7]\"\n",
        "\n"
      ],
      "metadata": {
        "colab": {
          "base_uri": "https://localhost:8080/"
        },
        "id": "LqqjEl2zo-m7",
        "outputId": "3a5fbd6e-3f3a-4e63-e01f-cf200ffdbe2f"
      },
      "execution_count": null,
      "outputs": [
        {
          "output_type": "stream",
          "name": "stdout",
          "text": [
            "20000000 loops, best of 5: 17.5 nsec per loop\n",
            "5000000 loops, best of 5: 64.7 nsec per loop\n"
          ]
        }
      ]
    },
    {
      "cell_type": "code",
      "execution_count": null,
      "metadata": {
        "colab": {
          "base_uri": "https://localhost:8080/"
        },
        "id": "zUBIiip2lvas",
        "outputId": "66456386-da9e-4a2d-d623-207f4c5b4bfa"
      },
      "outputs": [
        {
          "output_type": "stream",
          "name": "stdout",
          "text": [
            "9\n"
          ]
        }
      ],
      "source": [
        "nested =  [1,2,3,\"Mango\",[4,5,6],[8,9,7]]\n",
        "print(nested[-1][1])"
      ]
    }
  ]
}
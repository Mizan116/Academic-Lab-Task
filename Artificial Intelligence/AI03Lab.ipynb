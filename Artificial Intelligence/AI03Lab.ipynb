{
  "nbformat": 4,
  "nbformat_minor": 0,
  "metadata": {
    "colab": {
      "provenance": []
    },
    "kernelspec": {
      "name": "python3",
      "display_name": "Python 3"
    },
    "language_info": {
      "name": "python"
    }
  },
  "cells": [
    {
      "cell_type": "markdown",
      "source": [
        "list\n",
        "sort\n",
        "append\n",
        "function\n",
        "membership\n",
        "idendity\n",
        "numpy\n",
        "avg\n",
        "list concatenation\n"
      ],
      "metadata": {
        "id": "2sCIvnGE5R7L"
      }
    },
    {
      "cell_type": "code",
      "source": [
        "x = [1,2,3]\n",
        "y = ['s','w','y','z']\n",
        "y.sort(reverse= True)\n",
        "for i,j in zip(x,y):\n",
        "  print(i,j)"
      ],
      "metadata": {
        "colab": {
          "base_uri": "https://localhost:8080/"
        },
        "id": "PnWjK-35falI",
        "outputId": "9fd7d463-c19d-478a-a3b7-c30029518a75"
      },
      "execution_count": null,
      "outputs": [
        {
          "output_type": "stream",
          "name": "stdout",
          "text": [
            "1 z\n",
            "2 y\n",
            "3 w\n"
          ]
        }
      ]
    },
    {
      "cell_type": "code",
      "source": [
        "a = [2,3,4,5,6]\n",
        "b = ['a', 'b','c','d','e']\n",
        "b.sort(reverse = True)\n",
        "for i,j in zip(a,b):\n",
        "  print(i,j)\n"
      ],
      "metadata": {
        "colab": {
          "base_uri": "https://localhost:8080/"
        },
        "id": "GGhZQqXP25vB",
        "outputId": "95d7dd50-a210-495f-ac58-2633827e126f"
      },
      "execution_count": null,
      "outputs": [
        {
          "output_type": "stream",
          "name": "stdout",
          "text": [
            "2 e\n",
            "3 d\n",
            "4 c\n",
            "5 b\n",
            "6 a\n"
          ]
        }
      ]
    },
    {
      "cell_type": "code",
      "source": [
        "num = [100.22,22 ,23,22423]\n",
        "num.sort()\n",
        "num\n",
        "num.sort(reverse = True)\n",
        "num"
      ],
      "metadata": {
        "id": "RwoxJYf01XAX"
      },
      "execution_count": null,
      "outputs": []
    },
    {
      "cell_type": "code",
      "source": [
        "num2 = num.copy()\n",
        "num.append(344)"
      ],
      "metadata": {
        "id": "7F0mEQHN2e-P"
      },
      "execution_count": null,
      "outputs": []
    },
    {
      "cell_type": "code",
      "source": [],
      "metadata": {
        "colab": {
          "base_uri": "https://localhost:8080/",
          "height": 192
        },
        "id": "w6HGKWFU3VFH",
        "outputId": "bc3142ca-d5f7-49ac-e06a-ee2c17556a2f"
      },
      "execution_count": null,
      "outputs": [
        {
          "output_type": "error",
          "ename": "TypeError",
          "evalue": "ignored",
          "traceback": [
            "\u001b[0;31m---------------------------------------------------------------------------\u001b[0m",
            "\u001b[0;31mTypeError\u001b[0m                                 Traceback (most recent call last)",
            "\u001b[0;32m<ipython-input-62-e9bf80911941>\u001b[0m in \u001b[0;36m<cell line: 1>\u001b[0;34m()\u001b[0m\n\u001b[0;32m----> 1\u001b[0;31m \u001b[0;32mfor\u001b[0m \u001b[0mi\u001b[0m\u001b[0;34m,\u001b[0m\u001b[0mj\u001b[0m \u001b[0;32min\u001b[0m \u001b[0;34m(\u001b[0m\u001b[0ma\u001b[0m\u001b[0;34m,\u001b[0m\u001b[0mb\u001b[0m\u001b[0;34m)\u001b[0m\u001b[0;34m:\u001b[0m\u001b[0;34m\u001b[0m\u001b[0;34m\u001b[0m\u001b[0m\n\u001b[0m\u001b[1;32m      2\u001b[0m   \u001b[0mprint\u001b[0m\u001b[0;34m(\u001b[0m\u001b[0mi\u001b[0m\u001b[0;34m,\u001b[0m\u001b[0mj\u001b[0m\u001b[0;34m)\u001b[0m\u001b[0;34m\u001b[0m\u001b[0;34m\u001b[0m\u001b[0m\n",
            "\u001b[0;31mTypeError\u001b[0m: cannot unpack non-iterable int object"
          ]
        }
      ]
    },
    {
      "cell_type": "code",
      "source": [
        "num_list= [1,2,3,4,5]\n",
        "name_list = ['aaa','bb']\n",
        "hybrid = [1,2,3, 'ss','irji']\n",
        "print(hybrid)\n",
        "\n",
        "new_list = num_list + name_list\n",
        "new_list[-2]"
      ],
      "metadata": {
        "colab": {
          "base_uri": "https://localhost:8080/",
          "height": 53
        },
        "id": "I1fY_zDdtZxj",
        "outputId": "9a24cc16-e686-4b75-f659-d8680b22982d"
      },
      "execution_count": null,
      "outputs": [
        {
          "output_type": "stream",
          "name": "stdout",
          "text": [
            "[1, 2, 3, 'ss', 'irji']\n"
          ]
        },
        {
          "output_type": "execute_result",
          "data": {
            "text/plain": [
              "'aaa'"
            ],
            "application/vnd.google.colaboratory.intrinsic+json": {
              "type": "string"
            }
          },
          "metadata": {},
          "execution_count": 13
        }
      ]
    },
    {
      "cell_type": "code",
      "source": [
        "import numpy as np\n",
        "max(num_list)\n",
        "min(num_list)\n",
        "np.mean(num_list)"
      ],
      "metadata": {
        "colab": {
          "base_uri": "https://localhost:8080/"
        },
        "id": "55Y9KUJh0LIh",
        "outputId": "0bd0c869-c801-4d85-d3e8-cbe506cb76c9"
      },
      "execution_count": null,
      "outputs": [
        {
          "output_type": "execute_result",
          "data": {
            "text/plain": [
              "3.0"
            ]
          },
          "metadata": {},
          "execution_count": 47
        }
      ]
    },
    {
      "cell_type": "code",
      "source": [
        "num_list[3:len(num_list)]\n",
        "\n",
        "num_list[ : : -1]"
      ],
      "metadata": {
        "colab": {
          "base_uri": "https://localhost:8080/"
        },
        "id": "GBpEpMyDyO-w",
        "outputId": "abde9bd3-509b-4335-d95e-d4d41aea3216"
      },
      "execution_count": null,
      "outputs": [
        {
          "output_type": "execute_result",
          "data": {
            "text/plain": [
              "[5, 4, 3, 2, 1]"
            ]
          },
          "metadata": {},
          "execution_count": 38
        }
      ]
    },
    {
      "cell_type": "code",
      "source": [
        "num_list[-1: -4: -1]"
      ],
      "metadata": {
        "colab": {
          "base_uri": "https://localhost:8080/"
        },
        "id": "x8ekAFG6z33o",
        "outputId": "84e38757-f3eb-4d32-8d00-c25a6dd03c9a"
      },
      "execution_count": null,
      "outputs": [
        {
          "output_type": "execute_result",
          "data": {
            "text/plain": [
              "[5, 4, 3]"
            ]
          },
          "metadata": {},
          "execution_count": 39
        }
      ]
    },
    {
      "cell_type": "code",
      "source": [
        "num_list[2:5]"
      ],
      "metadata": {
        "colab": {
          "base_uri": "https://localhost:8080/"
        },
        "id": "uf4-0AYCx2Qp",
        "outputId": "b0090b53-edd9-4c2a-d2a3-ebd355ca7565"
      },
      "execution_count": null,
      "outputs": [
        {
          "output_type": "execute_result",
          "data": {
            "text/plain": [
              "[3, 4, 5]"
            ]
          },
          "metadata": {},
          "execution_count": 35
        }
      ]
    },
    {
      "cell_type": "code",
      "source": [
        "hybrid.clear()\n",
        "hybrid"
      ],
      "metadata": {
        "colab": {
          "base_uri": "https://localhost:8080/"
        },
        "id": "briMmiHdxOrf",
        "outputId": "c3633b89-5966-4e13-ad9f-a78e9296c6b6"
      },
      "execution_count": null,
      "outputs": [
        {
          "output_type": "execute_result",
          "data": {
            "text/plain": [
              "[]"
            ]
          },
          "metadata": {},
          "execution_count": 34
        }
      ]
    },
    {
      "cell_type": "code",
      "source": [
        "\n",
        "new_list[3] = 'bangi'\n",
        "new_list"
      ],
      "metadata": {
        "id": "sMSChv61vrdy"
      },
      "execution_count": null,
      "outputs": []
    },
    {
      "cell_type": "code",
      "source": [
        "new_list.append('Habijabi')\n",
        "\n",
        "new_list.insert(5,\"aro habijabi\")\n",
        "\n",
        "new_list"
      ],
      "metadata": {
        "colab": {
          "base_uri": "https://localhost:8080/"
        },
        "id": "0JL4YvllvJxH",
        "outputId": "f87fb57c-c0e2-440d-cf05-f51e8f71ed05"
      },
      "execution_count": null,
      "outputs": [
        {
          "output_type": "execute_result",
          "data": {
            "text/plain": [
              "[1,\n",
              " 2,\n",
              " 3,\n",
              " 4,\n",
              " 5,\n",
              " 'aro habijabi',\n",
              " 'aaa',\n",
              " 'bb',\n",
              " 'Habijabi',\n",
              " 'Habijabi',\n",
              " 'Habijabi']"
            ]
          },
          "metadata": {},
          "execution_count": 16
        }
      ]
    },
    {
      "cell_type": "code",
      "source": [
        "a = 20\n",
        "b = 20\n",
        "a is b\n"
      ],
      "metadata": {
        "colab": {
          "base_uri": "https://localhost:8080/"
        },
        "id": "zeLTFTKZs8xL",
        "outputId": "593ba1e1-98b8-4a09-dee1-a716daaaba48"
      },
      "execution_count": null,
      "outputs": [
        {
          "output_type": "execute_result",
          "data": {
            "text/plain": [
              "True"
            ]
          },
          "metadata": {},
          "execution_count": 7
        }
      ]
    },
    {
      "cell_type": "code",
      "execution_count": null,
      "metadata": {
        "colab": {
          "base_uri": "https://localhost:8080/"
        },
        "id": "mF7RYAPKsZqN",
        "outputId": "bf412e24-e9ba-46c1-824e-ff306aff4020"
      },
      "outputs": [
        {
          "output_type": "execute_result",
          "data": {
            "text/plain": [
              "True"
            ]
          },
          "metadata": {},
          "execution_count": 5
        }
      ],
      "source": [
        "ar = [1,2,3,4]\n",
        "\n",
        "1 in ar"
      ]
    }
  ]
}